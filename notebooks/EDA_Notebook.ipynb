{
 "cells": [
  {
   "cell_type": "markdown",
   "id": "6165a063-495d-4266-9228-5c4ecca00900",
   "metadata": {},
   "source": [
    "## Customer Churn Prediction"
   ]
  },
  {
   "cell_type": "markdown",
   "id": "85db9cc7-10f8-4020-96d5-c18b5ea3e8cc",
   "metadata": {},
   "source": [
    "#### Project overview\n",
    "\n",
    "- Understanding the Problem Statement\n",
    "- Data Collection\n",
    "- Data Checks to perform\n",
    "- Exploratory data analysis\n",
    "- Data Pre-Processing\n",
    "- Model Training\n",
    "- Choose best model"
   ]
  },
  {
   "cell_type": "markdown",
   "id": "68288f2f-ab0e-41c7-8572-ec83595f23bc",
   "metadata": {},
   "source": [
    "### 1) Problem statement\n",
    "\n",
    "In competitive industries like telecom, e-commerce, and SaaS, retaining customers is more cost-effective than acquiring new ones. However, identifying customers at risk of churn and understanding the reasons behind it is challenging. Companies struggle with:  \n",
    "1. Predicting churn accurately due to noisy and imbalanced datasets.  \n",
    "2. Extracting actionable insights from churn models for targeted retention campaigns.  \n",
    "3. Automating the churn prediction process while ensuring scalability for real-time predictions.  \n",
    "\n",
    "This project aims to address these challenges by building a machine learning solution that not only predicts churn but also explains its drivers and integrates these insights into actionable business strategies.\n",
    "\n",
    "\n",
    "### 2) Data Collection\n",
    "- Dataset Source - [Kaggle](https://www.kaggle.com/datasets/blastchar/telco-customer-churn?resource=download)"
   ]
  },
  {
   "cell_type": "markdown",
   "id": "91b83b65-2494-4c08-8617-5ad4ff66c837",
   "metadata": {},
   "source": [
    "### 2.1 Import Data and Required Packages\n",
    "####  Importing Pandas, polars, Numpy, Matplotlib, Seaborn and Warnings Library."
   ]
  },
  {
   "cell_type": "code",
   "execution_count": 1,
   "id": "5bc8a5c2-5142-44a6-b14f-3bbcb3f63e5c",
   "metadata": {},
   "outputs": [],
   "source": [
    "import pandas as pd\n",
    "import numpy as np\n",
    "import seaborn as sns\n",
    "import matplotlib.pyplot as plt\n",
    "%matplotlib inline\n",
    "from scipy.stats import chi2_contingency, ttest_ind, f_oneway, spearmanr\n",
    "import warnings\n",
    "warnings.filterwarnings('ignore')"
   ]
  },
  {
   "cell_type": "markdown",
   "id": "78f31cb9-b32c-4b21-8259-e6380088b95e",
   "metadata": {},
   "source": [
    "#### Import the CSV Data as Pandas DataFrame"
   ]
  },
  {
   "cell_type": "markdown",
   "id": "2fbb6b9f-25a6-4c4c-9129-0c3898e49c22",
   "metadata": {},
   "source": [
    "#### Show Top 5 Records"
   ]
  },
  {
   "cell_type": "code",
   "execution_count": 2,
   "id": "9cb02841-0208-4b80-a1a1-cb71d71d2e8e",
   "metadata": {},
   "outputs": [
    {
     "data": {
      "text/html": [
       "<div>\n",
       "<style scoped>\n",
       "    .dataframe tbody tr th:only-of-type {\n",
       "        vertical-align: middle;\n",
       "    }\n",
       "\n",
       "    .dataframe tbody tr th {\n",
       "        vertical-align: top;\n",
       "    }\n",
       "\n",
       "    .dataframe thead th {\n",
       "        text-align: right;\n",
       "    }\n",
       "</style>\n",
       "<table border=\"1\" class=\"dataframe\">\n",
       "  <thead>\n",
       "    <tr style=\"text-align: right;\">\n",
       "      <th></th>\n",
       "      <th>customerID</th>\n",
       "      <th>gender</th>\n",
       "      <th>SeniorCitizen</th>\n",
       "      <th>Partner</th>\n",
       "      <th>Dependents</th>\n",
       "      <th>tenure</th>\n",
       "      <th>PhoneService</th>\n",
       "      <th>MultipleLines</th>\n",
       "      <th>InternetService</th>\n",
       "      <th>OnlineSecurity</th>\n",
       "      <th>...</th>\n",
       "      <th>DeviceProtection</th>\n",
       "      <th>TechSupport</th>\n",
       "      <th>StreamingTV</th>\n",
       "      <th>StreamingMovies</th>\n",
       "      <th>Contract</th>\n",
       "      <th>PaperlessBilling</th>\n",
       "      <th>PaymentMethod</th>\n",
       "      <th>MonthlyCharges</th>\n",
       "      <th>TotalCharges</th>\n",
       "      <th>Churn</th>\n",
       "    </tr>\n",
       "  </thead>\n",
       "  <tbody>\n",
       "    <tr>\n",
       "      <th>0</th>\n",
       "      <td>7590-VHVEG</td>\n",
       "      <td>Female</td>\n",
       "      <td>0</td>\n",
       "      <td>Yes</td>\n",
       "      <td>No</td>\n",
       "      <td>1</td>\n",
       "      <td>No</td>\n",
       "      <td>No phone service</td>\n",
       "      <td>DSL</td>\n",
       "      <td>No</td>\n",
       "      <td>...</td>\n",
       "      <td>No</td>\n",
       "      <td>No</td>\n",
       "      <td>No</td>\n",
       "      <td>No</td>\n",
       "      <td>Month-to-month</td>\n",
       "      <td>Yes</td>\n",
       "      <td>Electronic check</td>\n",
       "      <td>29.85</td>\n",
       "      <td>29.85</td>\n",
       "      <td>No</td>\n",
       "    </tr>\n",
       "    <tr>\n",
       "      <th>1</th>\n",
       "      <td>5575-GNVDE</td>\n",
       "      <td>Male</td>\n",
       "      <td>0</td>\n",
       "      <td>No</td>\n",
       "      <td>No</td>\n",
       "      <td>34</td>\n",
       "      <td>Yes</td>\n",
       "      <td>No</td>\n",
       "      <td>DSL</td>\n",
       "      <td>Yes</td>\n",
       "      <td>...</td>\n",
       "      <td>Yes</td>\n",
       "      <td>No</td>\n",
       "      <td>No</td>\n",
       "      <td>No</td>\n",
       "      <td>One year</td>\n",
       "      <td>No</td>\n",
       "      <td>Mailed check</td>\n",
       "      <td>56.95</td>\n",
       "      <td>1889.5</td>\n",
       "      <td>No</td>\n",
       "    </tr>\n",
       "    <tr>\n",
       "      <th>2</th>\n",
       "      <td>3668-QPYBK</td>\n",
       "      <td>Male</td>\n",
       "      <td>0</td>\n",
       "      <td>No</td>\n",
       "      <td>No</td>\n",
       "      <td>2</td>\n",
       "      <td>Yes</td>\n",
       "      <td>No</td>\n",
       "      <td>DSL</td>\n",
       "      <td>Yes</td>\n",
       "      <td>...</td>\n",
       "      <td>No</td>\n",
       "      <td>No</td>\n",
       "      <td>No</td>\n",
       "      <td>No</td>\n",
       "      <td>Month-to-month</td>\n",
       "      <td>Yes</td>\n",
       "      <td>Mailed check</td>\n",
       "      <td>53.85</td>\n",
       "      <td>108.15</td>\n",
       "      <td>Yes</td>\n",
       "    </tr>\n",
       "    <tr>\n",
       "      <th>3</th>\n",
       "      <td>7795-CFOCW</td>\n",
       "      <td>Male</td>\n",
       "      <td>0</td>\n",
       "      <td>No</td>\n",
       "      <td>No</td>\n",
       "      <td>45</td>\n",
       "      <td>No</td>\n",
       "      <td>No phone service</td>\n",
       "      <td>DSL</td>\n",
       "      <td>Yes</td>\n",
       "      <td>...</td>\n",
       "      <td>Yes</td>\n",
       "      <td>Yes</td>\n",
       "      <td>No</td>\n",
       "      <td>No</td>\n",
       "      <td>One year</td>\n",
       "      <td>No</td>\n",
       "      <td>Bank transfer (automatic)</td>\n",
       "      <td>42.30</td>\n",
       "      <td>1840.75</td>\n",
       "      <td>No</td>\n",
       "    </tr>\n",
       "    <tr>\n",
       "      <th>4</th>\n",
       "      <td>9237-HQITU</td>\n",
       "      <td>Female</td>\n",
       "      <td>0</td>\n",
       "      <td>No</td>\n",
       "      <td>No</td>\n",
       "      <td>2</td>\n",
       "      <td>Yes</td>\n",
       "      <td>No</td>\n",
       "      <td>Fiber optic</td>\n",
       "      <td>No</td>\n",
       "      <td>...</td>\n",
       "      <td>No</td>\n",
       "      <td>No</td>\n",
       "      <td>No</td>\n",
       "      <td>No</td>\n",
       "      <td>Month-to-month</td>\n",
       "      <td>Yes</td>\n",
       "      <td>Electronic check</td>\n",
       "      <td>70.70</td>\n",
       "      <td>151.65</td>\n",
       "      <td>Yes</td>\n",
       "    </tr>\n",
       "  </tbody>\n",
       "</table>\n",
       "<p>5 rows × 21 columns</p>\n",
       "</div>"
      ],
      "text/plain": [
       "   customerID  gender  SeniorCitizen Partner Dependents  tenure PhoneService  \\\n",
       "0  7590-VHVEG  Female              0     Yes         No       1           No   \n",
       "1  5575-GNVDE    Male              0      No         No      34          Yes   \n",
       "2  3668-QPYBK    Male              0      No         No       2          Yes   \n",
       "3  7795-CFOCW    Male              0      No         No      45           No   \n",
       "4  9237-HQITU  Female              0      No         No       2          Yes   \n",
       "\n",
       "      MultipleLines InternetService OnlineSecurity  ... DeviceProtection  \\\n",
       "0  No phone service             DSL             No  ...               No   \n",
       "1                No             DSL            Yes  ...              Yes   \n",
       "2                No             DSL            Yes  ...               No   \n",
       "3  No phone service             DSL            Yes  ...              Yes   \n",
       "4                No     Fiber optic             No  ...               No   \n",
       "\n",
       "  TechSupport StreamingTV StreamingMovies        Contract PaperlessBilling  \\\n",
       "0          No          No              No  Month-to-month              Yes   \n",
       "1          No          No              No        One year               No   \n",
       "2          No          No              No  Month-to-month              Yes   \n",
       "3         Yes          No              No        One year               No   \n",
       "4          No          No              No  Month-to-month              Yes   \n",
       "\n",
       "               PaymentMethod MonthlyCharges  TotalCharges Churn  \n",
       "0           Electronic check          29.85         29.85    No  \n",
       "1               Mailed check          56.95        1889.5    No  \n",
       "2               Mailed check          53.85        108.15   Yes  \n",
       "3  Bank transfer (automatic)          42.30       1840.75    No  \n",
       "4           Electronic check          70.70        151.65   Yes  \n",
       "\n",
       "[5 rows x 21 columns]"
      ]
     },
     "execution_count": 2,
     "metadata": {},
     "output_type": "execute_result"
    }
   ],
   "source": [
    "df = pd.read_csv('Telco-Customer-Churn.csv')\n",
    "df.head()"
   ]
  },
  {
   "cell_type": "markdown",
   "id": "dfd65507-2793-4745-bedd-1e73826dbf61",
   "metadata": {},
   "source": [
    "#### Shape of the dataset"
   ]
  },
  {
   "cell_type": "code",
   "execution_count": 3,
   "id": "05105425-6ee3-4fd5-9bfd-9f6768ec1c75",
   "metadata": {},
   "outputs": [
    {
     "data": {
      "text/plain": [
       "(7043, 21)"
      ]
     },
     "execution_count": 3,
     "metadata": {},
     "output_type": "execute_result"
    }
   ],
   "source": [
    "df.shape"
   ]
  },
  {
   "cell_type": "markdown",
   "id": "fc1245b6-791b-45aa-a83f-509dcbc17309",
   "metadata": {},
   "source": [
    "### 2.2 Dataset information"
   ]
  },
  {
   "cell_type": "markdown",
   "id": "cae84fd8-dcd7-4c46-9718-f2357f81d175",
   "metadata": {},
   "source": [
    "\n",
    "#### General Information:\n",
    "- **Number of Rows:** 7,043<br>\n",
    "- **Number of Columns:** 21<br>\n",
    "\n",
    "#### Data Description:\n",
    "1. **Customer Demographics:**<br>\n",
    "   - `customerID`: Unique identifier for each customer (string).<br>\n",
    "   - `gender`: Gender of the customer (`Female`, `Male`).<br>\n",
    "   - `SeniorCitizen`: Indicator if the customer is a senior citizen (integer, 0 = No, 1 = Yes).<br>\n",
    "   - `Partner`: Whether the customer has a partner (`Yes`, `No`).<br>\n",
    "   - `Dependents`: Whether the customer has dependents (`Yes`, `No`).<br>\n",
    "\n",
    "2. **Service Usage and Preferences:**<br>\n",
    "   - `tenure`: Number of months the customer has been with the company (integer).<br>\n",
    "   - `PhoneService`: If the customer has phone service (`Yes`, `No`).<br>\n",
    "   - `MultipleLines`: If the customer has multiple lines (`Yes`, `No`, `No phone service`).<br>\n",
    "   - `InternetService`: Type of internet service (`DSL`, `Fiber optic`, `No`).<br>\n",
    "   - `OnlineSecurity`: If the customer has online security (`Yes`, `No`, `No internet service`).<br>\n",
    "   - `OnlineBackup`: If the customer has online backup (`Yes`, `No`, `No internet service`).<br>\n",
    "   - `DeviceProtection`: If the customer has device protection (`Yes`, `No`, `No internet service`).<br>\n",
    "   - `TechSupport`: If the customer has technical support (`Yes`, `No`, `No internet service`).<br>\n",
    "   - `StreamingTV`: If the customer streams TV (`Yes`, `No`, `No internet service`).<br>\n",
    "   - `StreamingMovies`: If the customer streams movies (`Yes`, `No`, `No internet service`).<br>\n",
    "\n",
    "3. **Contract and Billing Information:**<br>\n",
    "   - `Contract`: Customer’s contract type (`Month-to-month`, `One year`, `Two year`).<br>\n",
    "   - `PaperlessBilling`: If the customer is on paperless billing (`Yes`, `No`).<br>\n",
    "   - `PaymentMethod`: Method of payment (`Electronic check`, `Mailed check`, `Bank transfer`, `Credit card`).<br>\n",
    "   - `MonthlyCharges`: Amount charged to the customer monthly (float).<br>\n",
    "   - `TotalCharges`: Total amount charged to the customer (float).<br>\n",
    "\n",
    "4. **Customer Churn:**<br>\n",
    "   - `Churn`: Whether the customer churned (`Yes`, `No`)."
   ]
  },
  {
   "cell_type": "markdown",
   "id": "f4e10714-a9cc-4139-b2ff-0a8212e28b8f",
   "metadata": {},
   "source": [
    "### 3. Data Checks to perform\n",
    "\n",
    "- Check Missing values\n",
    "- Check Duplicates\n",
    "- Check data type\n",
    "- Check the number of unique values of each column\n",
    "- Check statistics of data set\n",
    "- Check various categories present in the different categorical column"
   ]
  },
  {
   "cell_type": "markdown",
   "id": "3fa60eb3-8114-47ad-a0ac-c6ccf618f633",
   "metadata": {},
   "source": [
    "### 3.1 Check Missing values"
   ]
  },
  {
   "cell_type": "code",
   "execution_count": 4,
   "id": "52d1da85-4fdd-4694-a29c-63c4fafeaee2",
   "metadata": {},
   "outputs": [
    {
     "data": {
      "text/plain": [
       "customerID          0\n",
       "gender              0\n",
       "SeniorCitizen       0\n",
       "Partner             0\n",
       "Dependents          0\n",
       "tenure              0\n",
       "PhoneService        0\n",
       "MultipleLines       0\n",
       "InternetService     0\n",
       "OnlineSecurity      0\n",
       "OnlineBackup        0\n",
       "DeviceProtection    0\n",
       "TechSupport         0\n",
       "StreamingTV         0\n",
       "StreamingMovies     0\n",
       "Contract            0\n",
       "PaperlessBilling    0\n",
       "PaymentMethod       0\n",
       "MonthlyCharges      0\n",
       "TotalCharges        0\n",
       "Churn               0\n",
       "dtype: int64"
      ]
     },
     "execution_count": 4,
     "metadata": {},
     "output_type": "execute_result"
    }
   ],
   "source": [
    "# Count missing values (NaN or None) in each column\n",
    "df.isna().sum()"
   ]
  },
  {
   "cell_type": "markdown",
   "id": "87d1bfe9-8597-4401-8ffc-80267789682a",
   "metadata": {},
   "source": [
    "#### There are no missing values in the data set"
   ]
  },
  {
   "cell_type": "markdown",
   "id": "686ac479-1d7c-4d89-a9b8-af39c0d5a8bc",
   "metadata": {},
   "source": [
    "### 3.2 Check Duplicates"
   ]
  },
  {
   "cell_type": "code",
   "execution_count": 5,
   "id": "5f2cf0a8-e9d9-445a-859c-6dd371d0f7b3",
   "metadata": {},
   "outputs": [
    {
     "data": {
      "text/plain": [
       "0"
      ]
     },
     "execution_count": 5,
     "metadata": {},
     "output_type": "execute_result"
    }
   ],
   "source": [
    "# Check for duplicated rows and count them\n",
    "df.duplicated().sum()"
   ]
  },
  {
   "cell_type": "markdown",
   "id": "5c922278-e78d-451d-89f1-c6c2fff4ec58",
   "metadata": {},
   "source": [
    "#### There are no duplicates  values in the data set"
   ]
  },
  {
   "cell_type": "markdown",
   "id": "6df94f15-0abb-4141-bcad-f9e84ad32e6a",
   "metadata": {},
   "source": [
    "### 3.3 Check data types"
   ]
  },
  {
   "cell_type": "code",
   "execution_count": 6,
   "id": "5da27ea3-6ac8-4d61-9312-cfb2408232fa",
   "metadata": {},
   "outputs": [
    {
     "name": "stdout",
     "output_type": "stream",
     "text": [
      "<class 'pandas.core.frame.DataFrame'>\n",
      "RangeIndex: 7043 entries, 0 to 7042\n",
      "Data columns (total 21 columns):\n",
      " #   Column            Non-Null Count  Dtype  \n",
      "---  ------            --------------  -----  \n",
      " 0   customerID        7043 non-null   object \n",
      " 1   gender            7043 non-null   object \n",
      " 2   SeniorCitizen     7043 non-null   int64  \n",
      " 3   Partner           7043 non-null   object \n",
      " 4   Dependents        7043 non-null   object \n",
      " 5   tenure            7043 non-null   int64  \n",
      " 6   PhoneService      7043 non-null   object \n",
      " 7   MultipleLines     7043 non-null   object \n",
      " 8   InternetService   7043 non-null   object \n",
      " 9   OnlineSecurity    7043 non-null   object \n",
      " 10  OnlineBackup      7043 non-null   object \n",
      " 11  DeviceProtection  7043 non-null   object \n",
      " 12  TechSupport       7043 non-null   object \n",
      " 13  StreamingTV       7043 non-null   object \n",
      " 14  StreamingMovies   7043 non-null   object \n",
      " 15  Contract          7043 non-null   object \n",
      " 16  PaperlessBilling  7043 non-null   object \n",
      " 17  PaymentMethod     7043 non-null   object \n",
      " 18  MonthlyCharges    7043 non-null   float64\n",
      " 19  TotalCharges      7043 non-null   object \n",
      " 20  Churn             7043 non-null   object \n",
      "dtypes: float64(1), int64(2), object(18)\n",
      "memory usage: 1.1+ MB\n"
     ]
    }
   ],
   "source": [
    "df.info()"
   ]
  },
  {
   "cell_type": "code",
   "execution_count": 7,
   "id": "9cb5e886-45a2-4927-9d2f-cacad3d8cd0d",
   "metadata": {},
   "outputs": [],
   "source": [
    "# converting total charges to numeric data type\n",
    "\n",
    "df['TotalCharges'] = pd.to_numeric(df['TotalCharges'], errors='coerce')"
   ]
  },
  {
   "cell_type": "markdown",
   "id": "e9084895-a27a-429f-b226-49878db82872",
   "metadata": {},
   "source": [
    "### 3.4 Checking the number of unique values of each column"
   ]
  },
  {
   "cell_type": "code",
   "execution_count": 8,
   "id": "32d89aba-0c9f-4c9d-a123-6f4c0735ef0b",
   "metadata": {},
   "outputs": [
    {
     "data": {
      "text/plain": [
       "customerID          7043\n",
       "gender                 2\n",
       "SeniorCitizen          2\n",
       "Partner                2\n",
       "Dependents             2\n",
       "tenure                73\n",
       "PhoneService           2\n",
       "MultipleLines          3\n",
       "InternetService        3\n",
       "OnlineSecurity         3\n",
       "OnlineBackup           3\n",
       "DeviceProtection       3\n",
       "TechSupport            3\n",
       "StreamingTV            3\n",
       "StreamingMovies        3\n",
       "Contract               3\n",
       "PaperlessBilling       2\n",
       "PaymentMethod          4\n",
       "MonthlyCharges      1585\n",
       "TotalCharges        6530\n",
       "Churn                  2\n",
       "dtype: int64"
      ]
     },
     "execution_count": 8,
     "metadata": {},
     "output_type": "execute_result"
    }
   ],
   "source": [
    "# Get the number of unique values for each column\n",
    "df.nunique()"
   ]
  },
  {
   "cell_type": "markdown",
   "id": "7110ef66-7333-496f-9228-4b10cd978c4f",
   "metadata": {},
   "source": [
    "### 3.5 Check statistics of data set"
   ]
  },
  {
   "cell_type": "code",
   "execution_count": 9,
   "id": "f4e1ed7d-0a85-4c5e-a7d6-c74dc3cde053",
   "metadata": {},
   "outputs": [
    {
     "data": {
      "text/html": [
       "<div>\n",
       "<style scoped>\n",
       "    .dataframe tbody tr th:only-of-type {\n",
       "        vertical-align: middle;\n",
       "    }\n",
       "\n",
       "    .dataframe tbody tr th {\n",
       "        vertical-align: top;\n",
       "    }\n",
       "\n",
       "    .dataframe thead th {\n",
       "        text-align: right;\n",
       "    }\n",
       "</style>\n",
       "<table border=\"1\" class=\"dataframe\">\n",
       "  <thead>\n",
       "    <tr style=\"text-align: right;\">\n",
       "      <th></th>\n",
       "      <th>SeniorCitizen</th>\n",
       "      <th>tenure</th>\n",
       "      <th>MonthlyCharges</th>\n",
       "      <th>TotalCharges</th>\n",
       "    </tr>\n",
       "  </thead>\n",
       "  <tbody>\n",
       "    <tr>\n",
       "      <th>count</th>\n",
       "      <td>7043.00</td>\n",
       "      <td>7043.00</td>\n",
       "      <td>7043.00</td>\n",
       "      <td>7032.00</td>\n",
       "    </tr>\n",
       "    <tr>\n",
       "      <th>mean</th>\n",
       "      <td>0.16</td>\n",
       "      <td>32.37</td>\n",
       "      <td>64.76</td>\n",
       "      <td>2283.30</td>\n",
       "    </tr>\n",
       "    <tr>\n",
       "      <th>std</th>\n",
       "      <td>0.37</td>\n",
       "      <td>24.56</td>\n",
       "      <td>30.09</td>\n",
       "      <td>2266.77</td>\n",
       "    </tr>\n",
       "    <tr>\n",
       "      <th>min</th>\n",
       "      <td>0.00</td>\n",
       "      <td>0.00</td>\n",
       "      <td>18.25</td>\n",
       "      <td>18.80</td>\n",
       "    </tr>\n",
       "    <tr>\n",
       "      <th>25%</th>\n",
       "      <td>0.00</td>\n",
       "      <td>9.00</td>\n",
       "      <td>35.50</td>\n",
       "      <td>401.45</td>\n",
       "    </tr>\n",
       "    <tr>\n",
       "      <th>50%</th>\n",
       "      <td>0.00</td>\n",
       "      <td>29.00</td>\n",
       "      <td>70.35</td>\n",
       "      <td>1397.48</td>\n",
       "    </tr>\n",
       "    <tr>\n",
       "      <th>75%</th>\n",
       "      <td>0.00</td>\n",
       "      <td>55.00</td>\n",
       "      <td>89.85</td>\n",
       "      <td>3794.74</td>\n",
       "    </tr>\n",
       "    <tr>\n",
       "      <th>max</th>\n",
       "      <td>1.00</td>\n",
       "      <td>72.00</td>\n",
       "      <td>118.75</td>\n",
       "      <td>8684.80</td>\n",
       "    </tr>\n",
       "  </tbody>\n",
       "</table>\n",
       "</div>"
      ],
      "text/plain": [
       "       SeniorCitizen   tenure  MonthlyCharges  TotalCharges\n",
       "count        7043.00  7043.00         7043.00       7032.00\n",
       "mean            0.16    32.37           64.76       2283.30\n",
       "std             0.37    24.56           30.09       2266.77\n",
       "min             0.00     0.00           18.25         18.80\n",
       "25%             0.00     9.00           35.50        401.45\n",
       "50%             0.00    29.00           70.35       1397.48\n",
       "75%             0.00    55.00           89.85       3794.74\n",
       "max             1.00    72.00          118.75       8684.80"
      ]
     },
     "execution_count": 9,
     "metadata": {},
     "output_type": "execute_result"
    }
   ],
   "source": [
    "df.describe(include='number').round(2)"
   ]
  },
  {
   "cell_type": "markdown",
   "id": "77e1d554-e6d4-4da9-a8f6-990a3dbc8153",
   "metadata": {},
   "source": [
    "#### Insight\n",
    "\n",
    "1. The dataset indicates that only **16%** of customers are seniors, with a wide range of monthly charges and total charges.\n",
    "2. On average, customers have been with the company for about **32 months**, with the median tenure at **29 months**, suggesting a fairly stable customer base.\n",
    "3. Total charges range significantly, with a notable difference between the 25th percentile ($ \\$ 401.45$) and the 75th percentile ($ \\$ 3794.74$), highlighting the variability in customer lifetime value."
   ]
  },
  {
   "cell_type": "code",
   "execution_count": 10,
   "id": "095b93d9-733d-4469-a936-5f1c6df340c5",
   "metadata": {},
   "outputs": [
    {
     "data": {
      "text/html": [
       "<div>\n",
       "<style scoped>\n",
       "    .dataframe tbody tr th:only-of-type {\n",
       "        vertical-align: middle;\n",
       "    }\n",
       "\n",
       "    .dataframe tbody tr th {\n",
       "        vertical-align: top;\n",
       "    }\n",
       "\n",
       "    .dataframe thead th {\n",
       "        text-align: right;\n",
       "    }\n",
       "</style>\n",
       "<table border=\"1\" class=\"dataframe\">\n",
       "  <thead>\n",
       "    <tr style=\"text-align: right;\">\n",
       "      <th></th>\n",
       "      <th>count</th>\n",
       "      <th>unique</th>\n",
       "      <th>top</th>\n",
       "      <th>freq</th>\n",
       "    </tr>\n",
       "  </thead>\n",
       "  <tbody>\n",
       "    <tr>\n",
       "      <th>customerID</th>\n",
       "      <td>7043</td>\n",
       "      <td>7043</td>\n",
       "      <td>7590-VHVEG</td>\n",
       "      <td>1</td>\n",
       "    </tr>\n",
       "    <tr>\n",
       "      <th>gender</th>\n",
       "      <td>7043</td>\n",
       "      <td>2</td>\n",
       "      <td>Male</td>\n",
       "      <td>3555</td>\n",
       "    </tr>\n",
       "    <tr>\n",
       "      <th>Partner</th>\n",
       "      <td>7043</td>\n",
       "      <td>2</td>\n",
       "      <td>No</td>\n",
       "      <td>3641</td>\n",
       "    </tr>\n",
       "    <tr>\n",
       "      <th>Dependents</th>\n",
       "      <td>7043</td>\n",
       "      <td>2</td>\n",
       "      <td>No</td>\n",
       "      <td>4933</td>\n",
       "    </tr>\n",
       "    <tr>\n",
       "      <th>PhoneService</th>\n",
       "      <td>7043</td>\n",
       "      <td>2</td>\n",
       "      <td>Yes</td>\n",
       "      <td>6361</td>\n",
       "    </tr>\n",
       "    <tr>\n",
       "      <th>MultipleLines</th>\n",
       "      <td>7043</td>\n",
       "      <td>3</td>\n",
       "      <td>No</td>\n",
       "      <td>3390</td>\n",
       "    </tr>\n",
       "    <tr>\n",
       "      <th>InternetService</th>\n",
       "      <td>7043</td>\n",
       "      <td>3</td>\n",
       "      <td>Fiber optic</td>\n",
       "      <td>3096</td>\n",
       "    </tr>\n",
       "    <tr>\n",
       "      <th>OnlineSecurity</th>\n",
       "      <td>7043</td>\n",
       "      <td>3</td>\n",
       "      <td>No</td>\n",
       "      <td>3498</td>\n",
       "    </tr>\n",
       "    <tr>\n",
       "      <th>OnlineBackup</th>\n",
       "      <td>7043</td>\n",
       "      <td>3</td>\n",
       "      <td>No</td>\n",
       "      <td>3088</td>\n",
       "    </tr>\n",
       "    <tr>\n",
       "      <th>DeviceProtection</th>\n",
       "      <td>7043</td>\n",
       "      <td>3</td>\n",
       "      <td>No</td>\n",
       "      <td>3095</td>\n",
       "    </tr>\n",
       "    <tr>\n",
       "      <th>TechSupport</th>\n",
       "      <td>7043</td>\n",
       "      <td>3</td>\n",
       "      <td>No</td>\n",
       "      <td>3473</td>\n",
       "    </tr>\n",
       "    <tr>\n",
       "      <th>StreamingTV</th>\n",
       "      <td>7043</td>\n",
       "      <td>3</td>\n",
       "      <td>No</td>\n",
       "      <td>2810</td>\n",
       "    </tr>\n",
       "    <tr>\n",
       "      <th>StreamingMovies</th>\n",
       "      <td>7043</td>\n",
       "      <td>3</td>\n",
       "      <td>No</td>\n",
       "      <td>2785</td>\n",
       "    </tr>\n",
       "    <tr>\n",
       "      <th>Contract</th>\n",
       "      <td>7043</td>\n",
       "      <td>3</td>\n",
       "      <td>Month-to-month</td>\n",
       "      <td>3875</td>\n",
       "    </tr>\n",
       "    <tr>\n",
       "      <th>PaperlessBilling</th>\n",
       "      <td>7043</td>\n",
       "      <td>2</td>\n",
       "      <td>Yes</td>\n",
       "      <td>4171</td>\n",
       "    </tr>\n",
       "    <tr>\n",
       "      <th>PaymentMethod</th>\n",
       "      <td>7043</td>\n",
       "      <td>4</td>\n",
       "      <td>Electronic check</td>\n",
       "      <td>2365</td>\n",
       "    </tr>\n",
       "    <tr>\n",
       "      <th>Churn</th>\n",
       "      <td>7043</td>\n",
       "      <td>2</td>\n",
       "      <td>No</td>\n",
       "      <td>5174</td>\n",
       "    </tr>\n",
       "  </tbody>\n",
       "</table>\n",
       "</div>"
      ],
      "text/plain": [
       "                 count unique               top  freq\n",
       "customerID        7043   7043        7590-VHVEG     1\n",
       "gender            7043      2              Male  3555\n",
       "Partner           7043      2                No  3641\n",
       "Dependents        7043      2                No  4933\n",
       "PhoneService      7043      2               Yes  6361\n",
       "MultipleLines     7043      3                No  3390\n",
       "InternetService   7043      3       Fiber optic  3096\n",
       "OnlineSecurity    7043      3                No  3498\n",
       "OnlineBackup      7043      3                No  3088\n",
       "DeviceProtection  7043      3                No  3095\n",
       "TechSupport       7043      3                No  3473\n",
       "StreamingTV       7043      3                No  2810\n",
       "StreamingMovies   7043      3                No  2785\n",
       "Contract          7043      3    Month-to-month  3875\n",
       "PaperlessBilling  7043      2               Yes  4171\n",
       "PaymentMethod     7043      4  Electronic check  2365\n",
       "Churn             7043      2                No  5174"
      ]
     },
     "execution_count": 10,
     "metadata": {},
     "output_type": "execute_result"
    }
   ],
   "source": [
    "df.describe(include='object').T"
   ]
  },
  {
   "cell_type": "markdown",
   "id": "8d17c3e3-f998-4845-b789-3731bddc2db1",
   "metadata": {},
   "source": [
    "#### Insight\n",
    "\n",
    "1. The majority of customers  about **51%**, do not have a partner or dependents, and the top gender category is Male, with **50%** of customers being male.\n",
    "2. Most customers (**90%**) have phone service, but only **48%** of them opt for multiple lines, showing a preference for single-line service.\n",
    "3. Fiber optic internet service is the most popular choice (**44%**), while other services like OnlineSecurity, OnlineBackup, DeviceProtection, and TechSupport show low uptake, with \"No\" as the most common response.\n",
    "4. The majority of customers are on month-to-month contracts (**55%**) and use paperless billing (**59%**).\n",
    "5. Churn is relatively low, with **73%** of customers not churning, indicating potential customer retention opportunities."
   ]
  },
  {
   "cell_type": "markdown",
   "id": "17727f92-a544-4fcf-9bda-8a3f0d03bd02",
   "metadata": {},
   "source": [
    "### 3.7 Exploring Data"
   ]
  },
  {
   "cell_type": "code",
   "execution_count": 11,
   "id": "4404f8c6-5463-402b-8bbe-1715bf7bc04d",
   "metadata": {},
   "outputs": [],
   "source": [
    "import sys  \n",
    "import os  \n",
    "# Set the functions directory \n",
    "sys.path.append(os.path.abspath('../src'))"
   ]
  },
  {
   "cell_type": "markdown",
   "id": "6363cd3f-4652-4cc0-a4a9-d84863982899",
   "metadata": {},
   "source": [
    "#### [Link to the functions module](https://github.com/makina0928/Advanced-Data-Science-Project/blob/main/src/components/eda_functions.py)"
   ]
  },
  {
   "cell_type": "code",
   "execution_count": 12,
   "id": "35187e2f-c29c-49e9-b709-06443b8e587d",
   "metadata": {},
   "outputs": [],
   "source": [
    " from components.eda_functions import (  \n",
    "    print_feature_types,  \n",
    "    print_categories,  \n",
    "    calculate_key_metrics,  \n",
    "    calculate_status_distribution,  \n",
    ")"
   ]
  },
  {
   "cell_type": "code",
   "execution_count": 13,
   "id": "078bbaac-5ade-4fcb-89c7-2a78d23bca97",
   "metadata": {},
   "outputs": [
    {
     "name": "stdout",
     "output_type": "stream",
     "text": [
      "We have 4 numerical features : ['SeniorCitizen', 'tenure', 'MonthlyCharges', 'TotalCharges']\n",
      "\n",
      "We have 17 categorical features : ['customerID', 'gender', 'Partner', 'Dependents', 'PhoneService', 'MultipleLines', 'InternetService', 'OnlineSecurity', 'OnlineBackup', 'DeviceProtection', 'TechSupport', 'StreamingTV', 'StreamingMovies', 'Contract', 'PaperlessBilling', 'PaymentMethod', 'Churn']\n"
     ]
    }
   ],
   "source": [
    "# Call the function to print numerical & categorical columns data types\n",
    "\n",
    "print_feature_types(df)"
   ]
  },
  {
   "cell_type": "code",
   "execution_count": 14,
   "id": "d4756bbd-c222-4667-aa36-a627d9f8f18c",
   "metadata": {},
   "outputs": [
    {
     "name": "stdout",
     "output_type": "stream",
     "text": [
      "Categories in \u001b[1m'customerID'\u001b[0m there are \u001b[1m7043\u001b[0m categories: \u001b[1m['7590-VHVEG' '5575-GNVDE' '3668-QPYBK' ... '4801-JZAZL' '8361-LTMKD'\n",
      " '3186-AJIEK']\u001b[0m\n",
      "Categories in \u001b[1m'gender'\u001b[0m there are \u001b[1m2\u001b[0m categories: \u001b[1m['Female' 'Male']\u001b[0m\n",
      "Categories in \u001b[1m'Partner'\u001b[0m there are \u001b[1m2\u001b[0m categories: \u001b[1m['Yes' 'No']\u001b[0m\n",
      "Categories in \u001b[1m'Dependents'\u001b[0m there are \u001b[1m2\u001b[0m categories: \u001b[1m['No' 'Yes']\u001b[0m\n",
      "Categories in \u001b[1m'PhoneService'\u001b[0m there are \u001b[1m2\u001b[0m categories: \u001b[1m['No' 'Yes']\u001b[0m\n",
      "Categories in \u001b[1m'MultipleLines'\u001b[0m there are \u001b[1m3\u001b[0m categories: \u001b[1m['No phone service' 'No' 'Yes']\u001b[0m\n",
      "Categories in \u001b[1m'InternetService'\u001b[0m there are \u001b[1m3\u001b[0m categories: \u001b[1m['DSL' 'Fiber optic' 'No']\u001b[0m\n",
      "Categories in \u001b[1m'OnlineSecurity'\u001b[0m there are \u001b[1m3\u001b[0m categories: \u001b[1m['No' 'Yes' 'No internet service']\u001b[0m\n",
      "Categories in \u001b[1m'OnlineBackup'\u001b[0m there are \u001b[1m3\u001b[0m categories: \u001b[1m['Yes' 'No' 'No internet service']\u001b[0m\n",
      "Categories in \u001b[1m'DeviceProtection'\u001b[0m there are \u001b[1m3\u001b[0m categories: \u001b[1m['No' 'Yes' 'No internet service']\u001b[0m\n",
      "Categories in \u001b[1m'TechSupport'\u001b[0m there are \u001b[1m3\u001b[0m categories: \u001b[1m['No' 'Yes' 'No internet service']\u001b[0m\n",
      "Categories in \u001b[1m'StreamingTV'\u001b[0m there are \u001b[1m3\u001b[0m categories: \u001b[1m['No' 'Yes' 'No internet service']\u001b[0m\n",
      "Categories in \u001b[1m'StreamingMovies'\u001b[0m there are \u001b[1m3\u001b[0m categories: \u001b[1m['No' 'Yes' 'No internet service']\u001b[0m\n",
      "Categories in \u001b[1m'Contract'\u001b[0m there are \u001b[1m3\u001b[0m categories: \u001b[1m['Month-to-month' 'One year' 'Two year']\u001b[0m\n",
      "Categories in \u001b[1m'PaperlessBilling'\u001b[0m there are \u001b[1m2\u001b[0m categories: \u001b[1m['Yes' 'No']\u001b[0m\n",
      "Categories in \u001b[1m'PaymentMethod'\u001b[0m there are \u001b[1m4\u001b[0m categories: \u001b[1m['Electronic check' 'Mailed check' 'Bank transfer (automatic)'\n",
      " 'Credit card (automatic)']\u001b[0m\n",
      "Categories in \u001b[1m'Churn'\u001b[0m there are \u001b[1m2\u001b[0m categories: \u001b[1m['No' 'Yes']\u001b[0m\n"
     ]
    }
   ],
   "source": [
    "# Call the function for categorical columns\n",
    "\n",
    "# categorical columns\n",
    "print_categories(df)"
   ]
  },
  {
   "cell_type": "markdown",
   "id": "db2527ac-cd06-453e-8fdf-d8121894157c",
   "metadata": {},
   "source": [
    "### 3.8 Adding columns for \"tenure\""
   ]
  },
  {
   "cell_type": "code",
   "execution_count": 16,
   "id": "a9742ce0-75c2-48a0-a2e9-36721511ee4f",
   "metadata": {},
   "outputs": [],
   "source": [
    "# tenure segment function\n",
    "# tenure segment functions\n",
    "def map_tenure_segment(tenure):\n",
    "    if tenure <= 6:\n",
    "        return '1. 0 - 6 months'\n",
    "    elif 7 <= tenure <= 12:\n",
    "        return '2. 7 - 12 months'\n",
    "    elif 13 <= tenure <= 18:\n",
    "        return '3. 13 - 18 months'\n",
    "    elif 19 <= tenure <= 24:\n",
    "        return '4. 19 - 24 months'\n",
    "    else:\n",
    "        return '5. > 24 months'\n",
    "    \n",
    "# Apply the function to the 'tenure' column and create a new column 'tenure_segment'\n",
    "df['tenure_segment'] = df['tenure'].apply(map_tenure_segment)"
   ]
  },
  {
   "cell_type": "code",
   "execution_count": 17,
   "id": "0dc3d27b-f9aa-4961-8e0c-0451718da171",
   "metadata": {},
   "outputs": [
    {
     "data": {
      "text/html": [
       "<div>\n",
       "<style scoped>\n",
       "    .dataframe tbody tr th:only-of-type {\n",
       "        vertical-align: middle;\n",
       "    }\n",
       "\n",
       "    .dataframe tbody tr th {\n",
       "        vertical-align: top;\n",
       "    }\n",
       "\n",
       "    .dataframe thead th {\n",
       "        text-align: right;\n",
       "    }\n",
       "</style>\n",
       "<table border=\"1\" class=\"dataframe\">\n",
       "  <thead>\n",
       "    <tr style=\"text-align: right;\">\n",
       "      <th></th>\n",
       "      <th>customerID</th>\n",
       "      <th>gender</th>\n",
       "      <th>SeniorCitizen</th>\n",
       "      <th>Partner</th>\n",
       "      <th>Dependents</th>\n",
       "      <th>tenure</th>\n",
       "      <th>PhoneService</th>\n",
       "      <th>MultipleLines</th>\n",
       "      <th>InternetService</th>\n",
       "      <th>OnlineSecurity</th>\n",
       "      <th>...</th>\n",
       "      <th>TechSupport</th>\n",
       "      <th>StreamingTV</th>\n",
       "      <th>StreamingMovies</th>\n",
       "      <th>Contract</th>\n",
       "      <th>PaperlessBilling</th>\n",
       "      <th>PaymentMethod</th>\n",
       "      <th>MonthlyCharges</th>\n",
       "      <th>TotalCharges</th>\n",
       "      <th>Churn</th>\n",
       "      <th>tenure_segment</th>\n",
       "    </tr>\n",
       "  </thead>\n",
       "  <tbody>\n",
       "    <tr>\n",
       "      <th>0</th>\n",
       "      <td>7590-VHVEG</td>\n",
       "      <td>Female</td>\n",
       "      <td>0</td>\n",
       "      <td>Yes</td>\n",
       "      <td>No</td>\n",
       "      <td>1</td>\n",
       "      <td>No</td>\n",
       "      <td>No phone service</td>\n",
       "      <td>DSL</td>\n",
       "      <td>No</td>\n",
       "      <td>...</td>\n",
       "      <td>No</td>\n",
       "      <td>No</td>\n",
       "      <td>No</td>\n",
       "      <td>Month-to-month</td>\n",
       "      <td>Yes</td>\n",
       "      <td>Electronic check</td>\n",
       "      <td>29.85</td>\n",
       "      <td>29.85</td>\n",
       "      <td>No</td>\n",
       "      <td>1. 0 - 6 months</td>\n",
       "    </tr>\n",
       "    <tr>\n",
       "      <th>1</th>\n",
       "      <td>5575-GNVDE</td>\n",
       "      <td>Male</td>\n",
       "      <td>0</td>\n",
       "      <td>No</td>\n",
       "      <td>No</td>\n",
       "      <td>34</td>\n",
       "      <td>Yes</td>\n",
       "      <td>No</td>\n",
       "      <td>DSL</td>\n",
       "      <td>Yes</td>\n",
       "      <td>...</td>\n",
       "      <td>No</td>\n",
       "      <td>No</td>\n",
       "      <td>No</td>\n",
       "      <td>One year</td>\n",
       "      <td>No</td>\n",
       "      <td>Mailed check</td>\n",
       "      <td>56.95</td>\n",
       "      <td>1889.50</td>\n",
       "      <td>No</td>\n",
       "      <td>5. &gt; 24 months</td>\n",
       "    </tr>\n",
       "  </tbody>\n",
       "</table>\n",
       "<p>2 rows × 22 columns</p>\n",
       "</div>"
      ],
      "text/plain": [
       "   customerID  gender  SeniorCitizen Partner Dependents  tenure PhoneService  \\\n",
       "0  7590-VHVEG  Female              0     Yes         No       1           No   \n",
       "1  5575-GNVDE    Male              0      No         No      34          Yes   \n",
       "\n",
       "      MultipleLines InternetService OnlineSecurity  ... TechSupport  \\\n",
       "0  No phone service             DSL             No  ...          No   \n",
       "1                No             DSL            Yes  ...          No   \n",
       "\n",
       "  StreamingTV StreamingMovies        Contract PaperlessBilling  \\\n",
       "0          No              No  Month-to-month              Yes   \n",
       "1          No              No        One year               No   \n",
       "\n",
       "      PaymentMethod MonthlyCharges TotalCharges  Churn   tenure_segment  \n",
       "0  Electronic check          29.85        29.85     No  1. 0 - 6 months  \n",
       "1      Mailed check          56.95      1889.50     No   5. > 24 months  \n",
       "\n",
       "[2 rows x 22 columns]"
      ]
     },
     "execution_count": 17,
     "metadata": {},
     "output_type": "execute_result"
    }
   ],
   "source": [
    "df.head(2)"
   ]
  },
  {
   "cell_type": "code",
   "execution_count": 18,
   "id": "648d8186-c941-43f4-874c-8a87ff71450a",
   "metadata": {},
   "outputs": [
    {
     "data": {
      "text/html": [
       "<div>\n",
       "<style scoped>\n",
       "    .dataframe tbody tr th:only-of-type {\n",
       "        vertical-align: middle;\n",
       "    }\n",
       "\n",
       "    .dataframe tbody tr th {\n",
       "        vertical-align: top;\n",
       "    }\n",
       "\n",
       "    .dataframe thead th {\n",
       "        text-align: right;\n",
       "    }\n",
       "</style>\n",
       "<table border=\"1\" class=\"dataframe\">\n",
       "  <thead>\n",
       "    <tr style=\"text-align: right;\">\n",
       "      <th></th>\n",
       "      <th>MonthlyCharges</th>\n",
       "      <th>TotalCharges</th>\n",
       "    </tr>\n",
       "    <tr>\n",
       "      <th>tenure_segment</th>\n",
       "      <th></th>\n",
       "      <th></th>\n",
       "    </tr>\n",
       "  </thead>\n",
       "  <tbody>\n",
       "    <tr>\n",
       "      <th>1. 0 - 6 months</th>\n",
       "      <td>54.74</td>\n",
       "      <td>143.64</td>\n",
       "    </tr>\n",
       "    <tr>\n",
       "      <th>2. 7 - 12 months</th>\n",
       "      <td>58.95</td>\n",
       "      <td>553.91</td>\n",
       "    </tr>\n",
       "    <tr>\n",
       "      <th>3. 13 - 18 months</th>\n",
       "      <td>61.24</td>\n",
       "      <td>944.71</td>\n",
       "    </tr>\n",
       "    <tr>\n",
       "      <th>4. 19 - 24 months</th>\n",
       "      <td>61.50</td>\n",
       "      <td>1335.27</td>\n",
       "    </tr>\n",
       "    <tr>\n",
       "      <th>5. &gt; 24 months</th>\n",
       "      <td>70.61</td>\n",
       "      <td>3731.08</td>\n",
       "    </tr>\n",
       "  </tbody>\n",
       "</table>\n",
       "</div>"
      ],
      "text/plain": [
       "                   MonthlyCharges  TotalCharges\n",
       "tenure_segment                                 \n",
       "1. 0 - 6 months             54.74        143.64\n",
       "2. 7 - 12 months            58.95        553.91\n",
       "3. 13 - 18 months           61.24        944.71\n",
       "4. 19 - 24 months           61.50       1335.27\n",
       "5. > 24 months              70.61       3731.08"
      ]
     },
     "execution_count": 18,
     "metadata": {},
     "output_type": "execute_result"
    }
   ],
   "source": [
    "# Group by 'tenure_segment' and calculate the mean of 'MonthlyCharges' and 'TotalCharges'\n",
    "grouped_data = df.groupby('tenure_segment')[['MonthlyCharges', 'TotalCharges']].mean().round(2)\n",
    "grouped_data = grouped_data.sort_values('tenure_segment')\n",
    "\n",
    "# Display the sorted data\n",
    "grouped_data\n"
   ]
  },
  {
   "cell_type": "markdown",
   "id": "5f1ea3ff-8fe8-44d4-8ca5-73aa889e1ff4",
   "metadata": {},
   "source": [
    "### Insights:\n",
    "1. **Increasing TotalCharges with Tenure:** As tenure increases, the **Total Charges** steadily rise, reflecting longer customer engagement resulting in higher cumulative charges. Customers with more than 24 months tenure have significantly higher Total Charges compared to shorter-tenure groups.\n",
    "\n",
    "2. **Gradual Rise in Monthly Charges:** There is a slight but consistent increase in **Monthly Charges** as tenure progresses, with the highest average monthly charge observed in the customers with more than 24 months tenure (**$\\$ 70.61$**).\n",
    "\n",
    "3. **Short-Tenure Customers Pay Less:** Customers with less than 6 months tenure have the lowest **Monthly Charges ($\\$ 54.74$)** and **Total Charges ($\\$ 143.64$)**, suggesting potential opportunities to increase revenue by upselling or improving service offerings to new customers."
   ]
  },
  {
   "cell_type": "markdown",
   "id": "8f450548-f973-44b8-9bba-7bd0eb87540b",
   "metadata": {},
   "source": [
    "### 4. Exploring Data:\n",
    "#### EDA to Perform (Feature Wise numerical and graphical summaries)\n",
    "-   Univariate\n",
    "-   Bivariate\n",
    "-   Multivariate\n",
    "\n",
    "#### Libraries\n",
    "-  Pandas for summary computations.\n",
    "-  Seaborn and matplotlib for visualization plots."
   ]
  },
  {
   "cell_type": "markdown",
   "id": "2b4ed120-2100-4534-8068-244ec8af37cd",
   "metadata": {},
   "source": [
    "#### **4.1. Overview (Executive Summary)**\n",
    "   - **Key Metrics**: \n",
    "     - Average, Median and Standard deviation of Tenure, Monthly Charges, and Total Charges\n",
    "     - percentage and count of Active vs. Churned Customers \n",
    "   - **Visualizations**:\n",
    "     - KDE Plot: Total Customers, Churn Rate, Average Monthly Charges\n",
    "     - Pie chart: Active vs. Churned Customers\n",
    "---"
   ]
  },
  {
   "cell_type": "code",
   "execution_count": 19,
   "id": "05ed8465-c08b-4a27-a599-5c6c3c530f2b",
   "metadata": {},
   "outputs": [
    {
     "data": {
      "text/plain": [
       "tenure              int64\n",
       "MonthlyCharges    float64\n",
       "TotalCharges      float64\n",
       "Churn              object\n",
       "dtype: object"
      ]
     },
     "execution_count": 19,
     "metadata": {},
     "output_type": "execute_result"
    }
   ],
   "source": [
    "# Check data types of the target attributes\n",
    "df[['tenure', 'MonthlyCharges', 'TotalCharges','Churn']].dtypes"
   ]
  },
  {
   "cell_type": "markdown",
   "id": "9712408c-42ea-44d2-9cf3-d6a51da77100",
   "metadata": {},
   "source": [
    "-  ##### Key Metrics"
   ]
  },
  {
   "cell_type": "code",
   "execution_count": 20,
   "id": "f6bfc5d6-46ca-4c11-803c-5401c1ce3fd3",
   "metadata": {},
   "outputs": [
    {
     "data": {
      "text/html": [
       "<div>\n",
       "<style scoped>\n",
       "    .dataframe tbody tr th:only-of-type {\n",
       "        vertical-align: middle;\n",
       "    }\n",
       "\n",
       "    .dataframe tbody tr th {\n",
       "        vertical-align: top;\n",
       "    }\n",
       "\n",
       "    .dataframe thead th {\n",
       "        text-align: right;\n",
       "    }\n",
       "</style>\n",
       "<table border=\"1\" class=\"dataframe\">\n",
       "  <thead>\n",
       "    <tr style=\"text-align: right;\">\n",
       "      <th></th>\n",
       "      <th>Metric</th>\n",
       "      <th>Value</th>\n",
       "    </tr>\n",
       "  </thead>\n",
       "  <tbody>\n",
       "    <tr>\n",
       "      <th>0</th>\n",
       "      <td>Average tenure</td>\n",
       "      <td>32.37</td>\n",
       "    </tr>\n",
       "    <tr>\n",
       "      <th>1</th>\n",
       "      <td>Median tenure</td>\n",
       "      <td>29.00</td>\n",
       "    </tr>\n",
       "    <tr>\n",
       "      <th>2</th>\n",
       "      <td>Std Dev tenure</td>\n",
       "      <td>24.56</td>\n",
       "    </tr>\n",
       "    <tr>\n",
       "      <th>3</th>\n",
       "      <td>Average MonthlyCharges</td>\n",
       "      <td>64.76</td>\n",
       "    </tr>\n",
       "    <tr>\n",
       "      <th>4</th>\n",
       "      <td>Median MonthlyCharges</td>\n",
       "      <td>70.35</td>\n",
       "    </tr>\n",
       "    <tr>\n",
       "      <th>5</th>\n",
       "      <td>Std Dev MonthlyCharges</td>\n",
       "      <td>30.09</td>\n",
       "    </tr>\n",
       "    <tr>\n",
       "      <th>6</th>\n",
       "      <td>Average TotalCharges</td>\n",
       "      <td>2283.30</td>\n",
       "    </tr>\n",
       "    <tr>\n",
       "      <th>7</th>\n",
       "      <td>Median TotalCharges</td>\n",
       "      <td>1400.55</td>\n",
       "    </tr>\n",
       "    <tr>\n",
       "      <th>8</th>\n",
       "      <td>Std Dev TotalCharges</td>\n",
       "      <td>2265.00</td>\n",
       "    </tr>\n",
       "  </tbody>\n",
       "</table>\n",
       "</div>"
      ],
      "text/plain": [
       "                   Metric    Value\n",
       "0          Average tenure    32.37\n",
       "1           Median tenure    29.00\n",
       "2          Std Dev tenure    24.56\n",
       "3  Average MonthlyCharges    64.76\n",
       "4   Median MonthlyCharges    70.35\n",
       "5  Std Dev MonthlyCharges    30.09\n",
       "6    Average TotalCharges  2283.30\n",
       "7     Median TotalCharges  1400.55\n",
       "8    Std Dev TotalCharges  2265.00"
      ]
     },
     "execution_count": 20,
     "metadata": {},
     "output_type": "execute_result"
    }
   ],
   "source": [
    "# Average, Median and Standard deviation of Tenure, Monthly Charges, and Total Charges\n",
    "\n",
    "# Calculate key metrics\n",
    "key_metrics = calculate_key_metrics(df, numeric_columns=['tenure', 'MonthlyCharges', 'TotalCharges'], handle_missing='fill')\n",
    "\n",
    "# Convert to a DataFrame and round the values for display\n",
    "key_metrics_df = pd.DataFrame(list(key_metrics.items()), columns=[\"Metric\", \"Value\"])\n",
    "key_metrics_df[\"Value\"] = key_metrics_df[\"Value\"].round(2)  # Round all values to 2 decimal places\n",
    "\n",
    "key_metrics_df"
   ]
  },
  {
   "cell_type": "code",
   "execution_count": null,
   "id": "00805c98-a0ba-4d2b-9a55-4a4a539a75c3",
   "metadata": {},
   "outputs": [],
   "source": []
  },
  {
   "cell_type": "code",
   "execution_count": 21,
   "id": "b24b876a-8396-47c2-aca6-3b698d3efcba",
   "metadata": {},
   "outputs": [
    {
     "data": {
      "text/html": [
       "<div>\n",
       "<style scoped>\n",
       "    .dataframe tbody tr th:only-of-type {\n",
       "        vertical-align: middle;\n",
       "    }\n",
       "\n",
       "    .dataframe tbody tr th {\n",
       "        vertical-align: top;\n",
       "    }\n",
       "\n",
       "    .dataframe thead th {\n",
       "        text-align: right;\n",
       "    }\n",
       "</style>\n",
       "<table border=\"1\" class=\"dataframe\">\n",
       "  <thead>\n",
       "    <tr style=\"text-align: right;\">\n",
       "      <th></th>\n",
       "      <th>Category</th>\n",
       "      <th>Count</th>\n",
       "      <th>Percentage</th>\n",
       "    </tr>\n",
       "  </thead>\n",
       "  <tbody>\n",
       "    <tr>\n",
       "      <th>0</th>\n",
       "      <td>No</td>\n",
       "      <td>5174</td>\n",
       "      <td>73.46</td>\n",
       "    </tr>\n",
       "    <tr>\n",
       "      <th>1</th>\n",
       "      <td>Yes</td>\n",
       "      <td>1869</td>\n",
       "      <td>26.54</td>\n",
       "    </tr>\n",
       "  </tbody>\n",
       "</table>\n",
       "</div>"
      ],
      "text/plain": [
       "  Category  Count  Percentage\n",
       "0       No   5174       73.46\n",
       "1      Yes   1869       26.54"
      ]
     },
     "execution_count": 21,
     "metadata": {},
     "output_type": "execute_result"
    }
   ],
   "source": [
    "# Call the function and get the results\n",
    "results = calculate_status_distribution(df, column_name='Churn')\n",
    "\n",
    "# Convert results to a DataFrame\n",
    "distribution_df = pd.DataFrame({\n",
    "    'Category': results['Categories'],\n",
    "    'Count': results['Counts'],\n",
    "    'Percentage': results['Percentages']\n",
    "})\n",
    "distribution_df"
   ]
  },
  {
   "cell_type": "markdown",
   "id": "59b3f13b-d49a-4d0a-addc-871bdd2708a4",
   "metadata": {},
   "source": [
    "-  ##### Visualizations"
   ]
  },
  {
   "cell_type": "code",
   "execution_count": 22,
   "id": "2a544b81-db95-4c66-a9f9-d59546ff08a4",
   "metadata": {},
   "outputs": [
    {
     "data": {
      "image/png": "[encoded data removed]",
      "text/plain": [
       "<Figure size 1500x600 with 6 Axes>"
      ]
     },
     "metadata": {},
     "output_type": "display_data"
    }
   ],
   "source": [
    "# Create the figure and subplots\n",
    "fig, axes = plt.subplots(2, 3, figsize=(15, 6), gridspec_kw={'height_ratios': [1, 1]})\n",
    "sns.set_style(\"darkgrid\")\n",
    "\n",
    "# Pie chart on the first row\n",
    "churn_counts = df['Churn'].value_counts()\n",
    "labels = ['Active Customers', 'Churned Customers']\n",
    "colors = ['#1f77b4', '#ff7f0e']\n",
    "\n",
    "axes[0, 0].pie(\n",
    "    churn_counts,\n",
    "    labels=labels,\n",
    "    colors=colors,\n",
    "    autopct='%1.1f%%',\n",
    "    startangle=90,\n",
    "    wedgeprops={'edgecolor': 'white'}\n",
    ")\n",
    "axes[0, 0].set_title('Customer Distribution: Active vs. Churned')\n",
    "\n",
    "# Remove unused subplots in the first row\n",
    "axes[0, 1].axis('off')\n",
    "axes[0, 2].axis('off')\n",
    "\n",
    "# KDE plots on the second row\n",
    "sns.kdeplot(df['TotalCharges'], label='Total Charges', ax=axes[1, 0], color='#1f77b4', fill=True)\n",
    "axes[1, 0].legend()\n",
    "## axes[1, 0].set_title('KDE Plot: Total Charges')\n",
    "\n",
    "sns.kdeplot(df['tenure'], label='Tenure', ax=axes[1, 1], color='#1f77b4', fill=True)\n",
    "axes[1, 1].legend()\n",
    "## axes[1, 1].set_title('KDE Plot: Tenure')\n",
    "\n",
    "sns.kdeplot(df['MonthlyCharges'], label='Monthly Charges', ax=axes[1, 2], color='#1f77b4', fill=True)\n",
    "axes[1, 2].legend()\n",
    "## axes[1, 2].set_title('KDE Plot: Monthly Charges')\n",
    "\n",
    "# Adjust layout\n",
    "plt.tight_layout()\n",
    "plt.show()"
   ]
  },
  {
   "cell_type": "markdown",
   "id": "bd766202-b882-4dc1-9865-6e0329304eed",
   "metadata": {},
   "source": [
    "#### **4.2. Customer Demographics Insights**\n",
    "   - **Features**:\n",
    "     - Gender\n",
    "     - SeniorCitizen\n",
    "     - Partner\n",
    "     - Dependents\n",
    "   - **Summaries**:\n",
    "     - Percentage share of observations within Gender, SeniorCitizen, partner, and Dependents.\n",
    "   - **Visualizations**:\n",
    "     - Bar chart: Gender, SeniorCitizen, partner, and Dependents distribution.\n",
    "     - Stacked Bar Chart: Churn by Gender, SeniorCitizen, partner, and Dependents.\n",
    "     - Heatmap: Correlation between tenure, MonthlyCharges, and Churn.\n",
    "---"
   ]
  },
  {
   "cell_type": "markdown",
   "id": "80f6ae59-f287-4cfd-9828-c96f23de419b",
   "metadata": {},
   "source": [
    "- #### Summaries"
   ]
  },
  {
   "cell_type": "code",
   "execution_count": 23,
   "id": "70034e5f-49ed-4f9c-932c-0d4a0e855337",
   "metadata": {},
   "outputs": [
    {
     "data": {
      "text/plain": [
       "Index(['customerID', 'gender', 'SeniorCitizen', 'Partner', 'Dependents',\n",
       "       'tenure', 'PhoneService', 'MultipleLines', 'InternetService',\n",
       "       'OnlineSecurity', 'OnlineBackup', 'DeviceProtection', 'TechSupport',\n",
       "       'StreamingTV', 'StreamingMovies', 'Contract', 'PaperlessBilling',\n",
       "       'PaymentMethod', 'MonthlyCharges', 'TotalCharges', 'Churn',\n",
       "       'tenure_segment'],\n",
       "      dtype='object')"
      ]
     },
     "execution_count": 23,
     "metadata": {},
     "output_type": "execute_result"
    }
   ],
   "source": [
    "df.columns"
   ]
  },
  {
   "cell_type": "code",
   "execution_count": 24,
   "id": "30d79adc-a932-4506-ac02-ebfe8be79467",
   "metadata": {},
   "outputs": [
    {
     "data": {
      "text/plain": [
       "{'Categories': ['Male', 'Female'],\n",
       " 'Counts': [3555, 3488],\n",
       " 'Percentages': [50.48, 49.52]}"
      ]
     },
     "execution_count": 24,
     "metadata": {},
     "output_type": "execute_result"
    }
   ],
   "source": [
    "# Percentage share of observations within Gender.\n",
    "\n",
    "gender_df = calculate_status_distribution(df, column_name='gender')\n",
    "gender_df"
   ]
  },
  {
   "cell_type": "code",
   "execution_count": 25,
   "id": "c9c28d98-acc6-4f55-97c0-7aa00852c102",
   "metadata": {},
   "outputs": [
    {
     "data": {
      "text/plain": [
       "{'Categories': [0, 1], 'Counts': [5901, 1142], 'Percentages': [83.79, 16.21]}"
      ]
     },
     "execution_count": 25,
     "metadata": {},
     "output_type": "execute_result"
    }
   ],
   "source": [
    "# Percentage share of observations within SeniorCitizen.\n",
    "\n",
    "SeniorCitizen_df = calculate_status_distribution(df, column_name='SeniorCitizen')\n",
    "SeniorCitizen_df"
   ]
  },
  {
   "cell_type": "code",
   "execution_count": 26,
   "id": "08f63e89-5b28-4497-910f-e27e2f43333f",
   "metadata": {},
   "outputs": [
    {
     "data": {
      "text/plain": [
       "{'Categories': ['No', 'Yes'],\n",
       " 'Counts': [3641, 3402],\n",
       " 'Percentages': [51.7, 48.3]}"
      ]
     },
     "execution_count": 26,
     "metadata": {},
     "output_type": "execute_result"
    }
   ],
   "source": [
    "# Percentage share of observations within partner.\n",
    "\n",
    "Partner_df = calculate_status_distribution(df, column_name='Partner')\n",
    "Partner_df"
   ]
  },
  {
   "cell_type": "code",
   "execution_count": 27,
   "id": "1f34a5d8-77ce-4683-8e1a-ec23f14019b1",
   "metadata": {},
   "outputs": [
    {
     "data": {
      "text/plain": [
       "{'Categories': ['No', 'Yes'],\n",
       " 'Counts': [4933, 2110],\n",
       " 'Percentages': [70.04, 29.96]}"
      ]
     },
     "execution_count": 27,
     "metadata": {},
     "output_type": "execute_result"
    }
   ],
   "source": [
    "# Percentage share of observations within Dependents.\n",
    "\n",
    "Dependents_df = calculate_status_distribution(df, column_name='Dependents')\n",
    "Dependents_df"
   ]
  },
  {
   "cell_type": "code",
   "execution_count": null,
   "id": "de67d739-21b6-4e3d-8821-34469ac4e1df",
   "metadata": {},
   "outputs": [],
   "source": []
  },
  {
   "cell_type": "markdown",
   "id": "be2bce2f-c145-4257-af6c-19c6c92c688c",
   "metadata": {},
   "source": [
    "#### **4.3. Service Usage Insights**\n",
    "   - **Features**:\n",
    "     - InternetService\n",
    "     - StreamingTV and StreamingMovies\n",
    "     - OnlineSecurity and OnlineBackup\n",
    "   - **Summaries**:\n",
    "     - Percentage share of observations within InternetService, StreamingTV, StreamingMovies, OnlineSecurity and OnlineBackup.\n",
    "   - **Visualizations**:\n",
    "     - Bar chart: InternetService, StreamingTV, StreamingMovies, OnlineSecurity and OnlineBackup distribution.\n",
    "     - Stacked Bar Chart: Churn rate by InternetService, StreamingTV, StreamingMovies, OnlineSecurity and OnlineBackup.\n",
    "     - Side-by-side Bars: Churn comparison of StreamingTV vs. StreamingMovies , OnlineSecurity vs. OnlineBackup.\n",
    "     - Sankey Diagram: Service combinations leading to churn.\n",
    "---"
   ]
  },
  {
   "cell_type": "markdown",
   "id": "96cab368-0c44-4713-baaa-7af48f66cd57",
   "metadata": {},
   "source": [
    "#### **4.4. Contract and Billing Insights**\n",
    "   - **Features**:\n",
    "     - Contract Type\n",
    "     - PaperlessBilling\n",
    "     - PaymentMethod\n",
    "     - MonthlyCharges\n",
    "     - TotalCharges\n",
    "   - **Summaries**:\n",
    "     - Percentage share of within Contract Type, PaperlessBilling and PaymentMethod observations\n",
    "     - Average MonthlyCharges and TotalCharges\n",
    "   - **Visualizations**:\n",
    "     - Line Chart: Churn rate trend by Contract type over time.\n",
    "     - Pie Chart: Churn distribution by PaymentMethod.\n",
    "     - Boxplot: MonthlyCharges and TotalCharges by Churn status.\n",
    "---"
   ]
  },
  {
   "cell_type": "code",
   "execution_count": null,
   "id": "547e3784-7f09-43a2-b901-8c4c192bf780",
   "metadata": {},
   "outputs": [],
   "source": []
  },
  {
   "cell_type": "code",
   "execution_count": null,
   "id": "f66991c6-bced-4944-bb65-dcff66fa0639",
   "metadata": {},
   "outputs": [],
   "source": []
  },
  {
   "cell_type": "code",
   "execution_count": null,
   "id": "b1eb507d-870c-4001-ae24-c636c8339048",
   "metadata": {},
   "outputs": [],
   "source": []
  },
  {
   "cell_type": "code",
   "execution_count": null,
   "id": "7e91e500-2ae4-4aac-869d-f242803e23d9",
   "metadata": {},
   "outputs": [],
   "source": []
  },
  {
   "cell_type": "code",
   "execution_count": null,
   "id": "290a63f4-a3d5-4cf2-9335-9b70532808dc",
   "metadata": {},
   "outputs": [],
   "source": []
  },
  {
   "cell_type": "code",
   "execution_count": null,
   "id": "d59990c9-f563-4ee9-a121-636a4f0be547",
   "metadata": {},
   "outputs": [],
   "source": []
  },
  {
   "cell_type": "code",
   "execution_count": null,
   "id": "6574a04f-c468-4800-a0b8-eeff63bd8d66",
   "metadata": {},
   "outputs": [],
   "source": []
  },
  {
   "cell_type": "code",
   "execution_count": null,
   "id": "9052b230-11c9-4a69-971a-72abb720e1cc",
   "metadata": {},
   "outputs": [],
   "source": []
  }
 ],
 "metadata": {
  "kernelspec": {
   "display_name": "base",
   "language": "python",
   "name": "python3"
  },
  "language_info": {
   "codemirror_mode": {
    "name": "ipython",
    "version": 3
   },
   "file_extension": ".py",
   "mimetype": "text/x-python",
   "name": "python",
   "nbconvert_exporter": "python",
   "pygments_lexer": "ipython3",
   "version": "3.12.4"
  }
 },
 "nbformat": 4,
 "nbformat_minor": 5
}
